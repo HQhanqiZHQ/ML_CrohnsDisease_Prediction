{
 "cells": [
  {
   "cell_type": "code",
   "execution_count": 1,
   "id": "b9e23e85",
   "metadata": {},
   "outputs": [],
   "source": [
    "import pandas as pd"
   ]
  },
  {
   "cell_type": "code",
   "execution_count": 2,
   "id": "c58a23f2",
   "metadata": {},
   "outputs": [],
   "source": [
    "import numpy as np"
   ]
  },
  {
   "cell_type": "code",
   "execution_count": 3,
   "id": "e41b170c",
   "metadata": {},
   "outputs": [],
   "source": [
    "fileNameStr = './primary_serum_BileAcid_nested_case_control_apr2022.csv'"
   ]
  },
  {
   "cell_type": "code",
   "execution_count": 4,
   "id": "5e46c477",
   "metadata": {},
   "outputs": [],
   "source": [
    "DataDF = pd.read_csv(fileNameStr,encoding=\"ISO-8859-1\",dtype = str)"
   ]
  },
  {
   "cell_type": "code",
   "execution_count": 5,
   "id": "37527502",
   "metadata": {},
   "outputs": [
    {
     "name": "stdout",
     "output_type": "stream",
     "text": [
      "<class 'pandas.core.frame.DataFrame'>\n",
      "RangeIndex: 442 entries, 0 to 441\n",
      "Data columns (total 14 columns):\n",
      " #   Column                              Non-Null Count  Dtype \n",
      "---  ------                              --------------  ----- \n",
      " 0   subject_ID                          442 non-null    object\n",
      " 1   Sex                                 441 non-null    object\n",
      " 2   Age                                 441 non-null    object\n",
      " 3   cluster                             442 non-null    object\n",
      " 4   Phenotype                           442 non-null    object\n",
      " 5   cholate                             340 non-null    object\n",
      " 6   glycocholate                        340 non-null    object\n",
      " 7   glycochenodeoxycholate              340 non-null    object\n",
      " 8   taurochenodeoxycholate              340 non-null    object\n",
      " 9   taurocholate                        340 non-null    object\n",
      " 10  tauro.beta.muricholate              340 non-null    object\n",
      " 11  glycochenodeoxycholate_3.sulfate    340 non-null    object\n",
      " 12  glycochenodeoxycholate_glucuronide  340 non-null    object\n",
      " 13  glyco.beta.muricholate              340 non-null    object\n",
      "dtypes: object(14)\n",
      "memory usage: 48.5+ KB\n"
     ]
    }
   ],
   "source": [
    "DataDF.info()"
   ]
  },
  {
   "cell_type": "code",
   "execution_count": 6,
   "id": "d8d08064",
   "metadata": {},
   "outputs": [
    {
     "data": {
      "text/plain": [
       "cholate                               102\n",
       "glycocholate                          102\n",
       "glycochenodeoxycholate                102\n",
       "taurochenodeoxycholate                102\n",
       "taurocholate                          102\n",
       "tauro.beta.muricholate                102\n",
       "glycochenodeoxycholate_3.sulfate      102\n",
       "glycochenodeoxycholate_glucuronide    102\n",
       "glyco.beta.muricholate                102\n",
       "Sex                                     1\n",
       "Age                                     1\n",
       "subject_ID                              0\n",
       "cluster                                 0\n",
       "Phenotype                               0\n",
       "dtype: int64"
      ]
     },
     "execution_count": 6,
     "metadata": {},
     "output_type": "execute_result"
    }
   ],
   "source": [
    "DataDF.isnull().sum().sort_values(ascending = False)"
   ]
  },
  {
   "cell_type": "code",
   "execution_count": 7,
   "id": "84646174",
   "metadata": {},
   "outputs": [
    {
     "data": {
      "text/html": [
       "<div>\n",
       "<style scoped>\n",
       "    .dataframe tbody tr th:only-of-type {\n",
       "        vertical-align: middle;\n",
       "    }\n",
       "\n",
       "    .dataframe tbody tr th {\n",
       "        vertical-align: top;\n",
       "    }\n",
       "\n",
       "    .dataframe thead th {\n",
       "        text-align: right;\n",
       "    }\n",
       "</style>\n",
       "<table border=\"1\" class=\"dataframe\">\n",
       "  <thead>\n",
       "    <tr style=\"text-align: right;\">\n",
       "      <th></th>\n",
       "      <th>subject_ID</th>\n",
       "      <th>Sex</th>\n",
       "      <th>Age</th>\n",
       "      <th>cluster</th>\n",
       "      <th>Phenotype</th>\n",
       "      <th>cholate</th>\n",
       "      <th>glycocholate</th>\n",
       "      <th>glycochenodeoxycholate</th>\n",
       "      <th>taurochenodeoxycholate</th>\n",
       "      <th>taurocholate</th>\n",
       "      <th>tauro.beta.muricholate</th>\n",
       "      <th>glycochenodeoxycholate_3.sulfate</th>\n",
       "      <th>glycochenodeoxycholate_glucuronide</th>\n",
       "      <th>glyco.beta.muricholate</th>\n",
       "    </tr>\n",
       "  </thead>\n",
       "  <tbody>\n",
       "    <tr>\n",
       "      <th>0</th>\n",
       "      <td>08-00017-01</td>\n",
       "      <td>F</td>\n",
       "      <td>10</td>\n",
       "      <td>1</td>\n",
       "      <td>Case</td>\n",
       "      <td>0.7573118</td>\n",
       "      <td>0.91997634</td>\n",
       "      <td>0.77842056</td>\n",
       "      <td>1.24525679</td>\n",
       "      <td>1.14069965</td>\n",
       "      <td>2.7651113</td>\n",
       "      <td>1.71957025</td>\n",
       "      <td>1.0857041</td>\n",
       "      <td>1.3865084</td>\n",
       "    </tr>\n",
       "    <tr>\n",
       "      <th>1</th>\n",
       "      <td>08-00064-02</td>\n",
       "      <td>F</td>\n",
       "      <td>12</td>\n",
       "      <td>1</td>\n",
       "      <td>HMC</td>\n",
       "      <td>0.4804394</td>\n",
       "      <td>0.33289766</td>\n",
       "      <td>0.9292487</td>\n",
       "      <td>0.56403644</td>\n",
       "      <td>0.25543443</td>\n",
       "      <td>0.2415591</td>\n",
       "      <td>0.85130129</td>\n",
       "      <td>0.1159877</td>\n",
       "      <td>0.4270566</td>\n",
       "    </tr>\n",
       "    <tr>\n",
       "      <th>2</th>\n",
       "      <td>08-00081-01</td>\n",
       "      <td>F</td>\n",
       "      <td>9</td>\n",
       "      <td>1</td>\n",
       "      <td>HMC</td>\n",
       "      <td>2.4567491</td>\n",
       "      <td>0.33719701</td>\n",
       "      <td>0.83332948</td>\n",
       "      <td>0.63471286</td>\n",
       "      <td>0.21986679</td>\n",
       "      <td>2.8139558</td>\n",
       "      <td>1.32631078</td>\n",
       "      <td>1.4407375</td>\n",
       "      <td>2.6454573</td>\n",
       "    </tr>\n",
       "    <tr>\n",
       "      <th>3</th>\n",
       "      <td>08-00137-01</td>\n",
       "      <td>F</td>\n",
       "      <td>10</td>\n",
       "      <td>1</td>\n",
       "      <td>HMC</td>\n",
       "      <td>0.7505478</td>\n",
       "      <td>1.45002968</td>\n",
       "      <td>1.83816035</td>\n",
       "      <td>1.65888423</td>\n",
       "      <td>1.3810984</td>\n",
       "      <td>0.8834238</td>\n",
       "      <td>1.02339715</td>\n",
       "      <td>0.6652177</td>\n",
       "      <td>0.9436588</td>\n",
       "    </tr>\n",
       "    <tr>\n",
       "      <th>4</th>\n",
       "      <td>08-00300-02</td>\n",
       "      <td>F</td>\n",
       "      <td>10</td>\n",
       "      <td>1</td>\n",
       "      <td>HMC</td>\n",
       "      <td>0.7565532</td>\n",
       "      <td>1.53808513</td>\n",
       "      <td>1.23406809</td>\n",
       "      <td>2.55594129</td>\n",
       "      <td>3.45330187</td>\n",
       "      <td>1.5012347</td>\n",
       "      <td>0.58239749</td>\n",
       "      <td>0.3636569</td>\n",
       "      <td>0.6431293</td>\n",
       "    </tr>\n",
       "  </tbody>\n",
       "</table>\n",
       "</div>"
      ],
      "text/plain": [
       "    subject_ID Sex Age cluster Phenotype    cholate glycocholate  \\\n",
       "0  08-00017-01   F  10       1      Case  0.7573118   0.91997634   \n",
       "1  08-00064-02   F  12       1       HMC  0.4804394   0.33289766   \n",
       "2  08-00081-01   F   9       1       HMC  2.4567491   0.33719701   \n",
       "3  08-00137-01   F  10       1       HMC  0.7505478   1.45002968   \n",
       "4  08-00300-02   F  10       1       HMC  0.7565532   1.53808513   \n",
       "\n",
       "  glycochenodeoxycholate taurochenodeoxycholate taurocholate  \\\n",
       "0             0.77842056             1.24525679   1.14069965   \n",
       "1              0.9292487             0.56403644   0.25543443   \n",
       "2             0.83332948             0.63471286   0.21986679   \n",
       "3             1.83816035             1.65888423    1.3810984   \n",
       "4             1.23406809             2.55594129   3.45330187   \n",
       "\n",
       "  tauro.beta.muricholate glycochenodeoxycholate_3.sulfate  \\\n",
       "0              2.7651113                       1.71957025   \n",
       "1              0.2415591                       0.85130129   \n",
       "2              2.8139558                       1.32631078   \n",
       "3              0.8834238                       1.02339715   \n",
       "4              1.5012347                       0.58239749   \n",
       "\n",
       "  glycochenodeoxycholate_glucuronide glyco.beta.muricholate  \n",
       "0                          1.0857041              1.3865084  \n",
       "1                          0.1159877              0.4270566  \n",
       "2                          1.4407375              2.6454573  \n",
       "3                          0.6652177              0.9436588  \n",
       "4                          0.3636569              0.6431293  "
      ]
     },
     "execution_count": 7,
     "metadata": {},
     "output_type": "execute_result"
    }
   ],
   "source": [
    "DataDF.head()"
   ]
  },
  {
   "cell_type": "code",
   "execution_count": 8,
   "id": "d3e8e44b",
   "metadata": {},
   "outputs": [],
   "source": [
    "subDataDF1=DataDF[\"cholate\"]"
   ]
  },
  {
   "cell_type": "code",
   "execution_count": 9,
   "id": "2afe3822",
   "metadata": {},
   "outputs": [],
   "source": [
    "DataDF['cholate'] = DataDF['cholate'].astype('float')"
   ]
  },
  {
   "cell_type": "code",
   "execution_count": 10,
   "id": "ea599a9e",
   "metadata": {},
   "outputs": [],
   "source": [
    "DataDF['glycocholate'] = DataDF['glycocholate'].astype('float')"
   ]
  },
  {
   "cell_type": "code",
   "execution_count": 11,
   "id": "dad28c00",
   "metadata": {},
   "outputs": [],
   "source": [
    "DataDF['glycochenodeoxycholate'] = DataDF['glycochenodeoxycholate'].astype('float')"
   ]
  },
  {
   "cell_type": "code",
   "execution_count": 12,
   "id": "e3cd8191",
   "metadata": {},
   "outputs": [],
   "source": [
    "DataDF['taurochenodeoxycholate'] = DataDF['taurochenodeoxycholate'].astype('float')"
   ]
  },
  {
   "cell_type": "code",
   "execution_count": 13,
   "id": "71efea9c",
   "metadata": {},
   "outputs": [],
   "source": [
    "DataDF['taurocholate'] = DataDF['taurocholate'].astype('float')"
   ]
  },
  {
   "cell_type": "code",
   "execution_count": 14,
   "id": "0076a6ff",
   "metadata": {},
   "outputs": [],
   "source": [
    "DataDF['tauro.beta.muricholate'] = DataDF['tauro.beta.muricholate'].astype('float')"
   ]
  },
  {
   "cell_type": "code",
   "execution_count": 15,
   "id": "8554c176",
   "metadata": {},
   "outputs": [],
   "source": [
    "DataDF['glycochenodeoxycholate_3.sulfate'] = DataDF['glycochenodeoxycholate_3.sulfate'].astype('float')"
   ]
  },
  {
   "cell_type": "code",
   "execution_count": 16,
   "id": "69895749",
   "metadata": {},
   "outputs": [],
   "source": [
    "DataDF['glycochenodeoxycholate_glucuronide'] = DataDF['glycochenodeoxycholate_glucuronide'].astype('float')"
   ]
  },
  {
   "cell_type": "code",
   "execution_count": 17,
   "id": "c3ab8d4a",
   "metadata": {},
   "outputs": [],
   "source": [
    "DataDF['glyco.beta.muricholate'] = DataDF['glyco.beta.muricholate'].astype('float')"
   ]
  },
  {
   "cell_type": "code",
   "execution_count": 18,
   "id": "cb3345f5",
   "metadata": {},
   "outputs": [],
   "source": [
    "DataDF.cholate = DataDF.cholate.fillna(DataDF.cholate.mean())"
   ]
  },
  {
   "cell_type": "code",
   "execution_count": 19,
   "id": "9edd0898",
   "metadata": {},
   "outputs": [
    {
     "data": {
      "text/plain": [
       "<AxesSubplot:>"
      ]
     },
     "execution_count": 19,
     "metadata": {},
     "output_type": "execute_result"
    },
    {
     "data": {
      "image/png": "[encoded data removed]",
      "text/plain": [
       "<Figure size 432x288 with 1 Axes>"
      ]
     },
     "metadata": {
      "needs_background": "light"
     },
     "output_type": "display_data"
    }
   ],
   "source": [
    "DataDF['cholate'].hist()"
   ]
  },
  {
   "cell_type": "code",
   "execution_count": 20,
   "id": "9e041bf8",
   "metadata": {},
   "outputs": [
    {
     "data": {
      "text/plain": [
       "<AxesSubplot:>"
      ]
     },
     "execution_count": 20,
     "metadata": {},
     "output_type": "execute_result"
    },
    {
     "data": {
      "image/png": "[encoded data removed]",
      "text/plain": [
       "<Figure size 432x288 with 1 Axes>"
      ]
     },
     "metadata": {
      "needs_background": "light"
     },
     "output_type": "display_data"
    }
   ],
   "source": [
    "DataDF['glycocholate'].hist()"
   ]
  },
  {
   "cell_type": "code",
   "execution_count": 21,
   "id": "ae965bd2",
   "metadata": {},
   "outputs": [],
   "source": [
    "DataDF.glycocholate = DataDF.glycocholate.fillna(DataDF.glycocholate.mean())"
   ]
  },
  {
   "cell_type": "code",
   "execution_count": 22,
   "id": "6f925bef",
   "metadata": {},
   "outputs": [
    {
     "data": {
      "text/plain": [
       "<AxesSubplot:>"
      ]
     },
     "execution_count": 22,
     "metadata": {},
     "output_type": "execute_result"
    },
    {
     "data": {
      "image/png": "[encoded data removed]",
      "text/plain": [
       "<Figure size 432x288 with 1 Axes>"
      ]
     },
     "metadata": {
      "needs_background": "light"
     },
     "output_type": "display_data"
    }
   ],
   "source": [
    "DataDF['glycocholate'].hist()"
   ]
  },
  {
   "cell_type": "code",
   "execution_count": null,
   "id": "e261415f",
   "metadata": {},
   "outputs": [],
   "source": []
  },
  {
   "cell_type": "code",
   "execution_count": null,
   "id": "b57fc2c7",
   "metadata": {},
   "outputs": [],
   "source": []
  }
 ],
 "metadata": {
  "kernelspec": {
   "display_name": "Python 3 (ipykernel)",
   "language": "python",
   "name": "python3"
  },
  "language_info": {
   "codemirror_mode": {
    "name": "ipython",
    "version": 3
   },
   "file_extension": ".py",
   "mimetype": "text/x-python",
   "name": "python",
   "nbconvert_exporter": "python",
   "pygments_lexer": "ipython3",
   "version": "3.8.12"
  }
 },
 "nbformat": 4,
 "nbformat_minor": 5
}
